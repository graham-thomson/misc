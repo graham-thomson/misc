{
 "cells": [
  {
   "cell_type": "markdown",
   "metadata": {},
   "source": [
    "# TMCA Water Usage"
   ]
  },
  {
   "cell_type": "code",
   "execution_count": null,
   "metadata": {},
   "outputs": [],
   "source": [
    "# imports\n",
    "import pandas as pd\n",
    "import re\n",
    "import plotly.express as px\n",
    "import pingouin as pg\n",
    "\n",
    "# display options\n",
    "pd.options.display.max_columns = 100\n",
    "\n",
    "# number of residents per unit mapping taken from https://www.tuckermathews.com/p/Residents\n",
    "n_resident_dict = {\n",
    "    'unit_1': 1,\n",
    "    'unit_2': 2,\n",
    "    'unit_3': 1,\n",
    "    'unit_4': 1,\n",
    "    'unit_5': 1,\n",
    "    'unit_6': 1,\n",
    "    'unit_7': 1,\n",
    "    'unit_8': 2,\n",
    "    'unit_9': 1,\n",
    "    'unit_1r': 1,\n",
    "    'unit_2r': 1,\n",
    "    'unit_3r': 1,\n",
    "    'unit_4r': 1\n",
    "}\n",
    "\n",
    "# convert to dataframe for joining purposes\n",
    "n_resident_lkup = pd.DataFrame(\n",
    "    n_resident_dict.items(), \n",
    "    columns=[\"unit\", \"n_residents\"]\n",
    ")\n",
    "\n",
    "# read in trustee data, reshape, and rename columns\n",
    "df = pd.read_excel(\n",
    "    \"/Users/grahamthomson/Downloads/TMCA Water Meter Readings .xlsx\", \n",
    "    engine=\"openpyxl\"\n",
    ").transpose().reset_index()\n",
    "\n",
    "units = ['unit_1', 'unit_2', 'unit_3',\n",
    "     'unit_4', 'unit_5', 'unit_6',\n",
    "     'unit_7', 'unit_8', 'unit_9',\n",
    "     'unit_1r', 'unit_2r', 'unit_3r',\n",
    "     'unit_4r']\n",
    "\n",
    "df.columns = [\"date\"] + units\n",
    "\n",
    "# filter out any row that isnt just a date and reading per unit\n",
    "df = df[df[\"date\"].apply(lambda x: True if re.match(\"\\d{4}-\\d{2}-\\d{2} \\d{2}:\\d{2}:\\d{2}\", str(x)) else False)]\n",
    "\n",
    "for c in df.columns:\n",
    "    # create lagged readings\n",
    "    df[f\"{c}_previous_reading\"] = df[f\"{c}\"].shift(1)\n",
    "    \n",
    "    # calculate reading difference and date diff\n",
    "    if c == \"date\":\n",
    "        df[\"days_between_readings\"] = (df[\"date\"] - df[f\"{c}_previous_reading\"])\n",
    "        df[\"days_between_readings\"] = df[\"days_between_readings\"].apply(lambda x: x.days)\n",
    "    else:\n",
    "        df[f\"{c}_difference\"] = df[f\"{c}\"] - df[f\"{c}_previous_reading\"]\n",
    "        df[f\"{c}_avg_daily_difference\"] = df[f\"{c}_difference\"] / df[\"days_between_readings\"]\n",
    "\n",
    "# sort columns\n",
    "df = df[sorted(df.columns)]"
   ]
  },
  {
   "cell_type": "code",
   "execution_count": null,
   "metadata": {},
   "outputs": [],
   "source": [
    "df[[\"date\"] + [c for c in df.columns if c.startswith(\"unit_8\")]]"
   ]
  },
  {
   "cell_type": "markdown",
   "metadata": {},
   "source": [
    "## Total Usage by Unit"
   ]
  },
  {
   "cell_type": "code",
   "execution_count": null,
   "metadata": {},
   "outputs": [],
   "source": [
    "total_usage = pd.DataFrame([[u, df[u].max() - df[u].min(), n_resident_dict[u]] for u in units], columns=[\"unit\", \"total_usage\", \"n_residents\"])\n",
    "total_usage[\"n_residents_percent\"] = total_usage[\"n_residents\"] / total_usage[\"n_residents\"].sum()\n",
    "total_usage[\"total_usage_percent\"] = total_usage[\"total_usage\"] / total_usage[\"total_usage\"].sum()\n",
    "total_usage[\"usage_index\"] = total_usage[\"total_usage_percent\"] / total_usage[\"n_residents_percent\"]\n",
    "total_usage = total_usage.sort_values(\"usage_index\", ascending=False)\n",
    "\n",
    "total_usage.style\\\n",
    ".background_gradient(subset=[\"total_usage_percent\", \"n_residents_percent\", \"usage_index\"])\\\n",
    ".format(\"{:.2%}\", subset=[\"total_usage_percent\", \"n_residents_percent\"])\\\n",
    ".hide_index()"
   ]
  },
  {
   "cell_type": "markdown",
   "metadata": {},
   "source": [
    "## Box Plots / Normalization"
   ]
  },
  {
   "cell_type": "code",
   "execution_count": null,
   "metadata": {},
   "outputs": [],
   "source": [
    "# daily average usage\n",
    "dau = df[[c for c in df.columns if c.endswith(\"_avg_daily_difference\")]].dropna().melt()\n",
    "dau.columns = [\"unit\", \"avg_usage\"]\n",
    "dau[\"unit\"] = dau[\"unit\"].apply(lambda x: x.replace(\"_avg_daily_difference\", \"\"))\n",
    "\n",
    "dau_normalized = dau.merge(n_resident_lkup, on=\"unit\")\n",
    "dau_normalized[\"avg_usage_normalized\"] = dau_normalized[\"avg_usage\"] / dau_normalized[\"n_residents\"]\n",
    "dau_normalized = dau_normalized.melt(\n",
    "    id_vars=\"unit\", \n",
    "    value_vars=[\"avg_usage\", \"avg_usage_normalized\"], \n",
    "    var_name=\"metric_name\",\n",
    "    value_name=\"liters_used\"\n",
    ")\n",
    "px.box(\n",
    "    data_frame=dau_normalized, \n",
    "    x=\"unit\", \n",
    "    y=\"liters_used\", \n",
    "    color=\"metric_name\", \n",
    "    title=\"Average Daily Water Usage by Unit\"\n",
    ")"
   ]
  },
  {
   "cell_type": "markdown",
   "metadata": {},
   "source": [
    "## Statistical Tests"
   ]
  },
  {
   "cell_type": "code",
   "execution_count": null,
   "metadata": {},
   "outputs": [],
   "source": [
    "pg.ttest(\n",
    "    x=dau_normalized.query(\"(unit == 'unit_8') & (metric_name == 'avg_usage_normalized')\")[\"liters_used\"].astype(float),\n",
    "    y=dau_normalized.query(\"(unit == 'unit_2') & (metric_name == 'avg_usage_normalized')\")[\"liters_used\"].astype(float)\n",
    ")"
   ]
  },
  {
   "cell_type": "code",
   "execution_count": null,
   "metadata": {},
   "outputs": [],
   "source": [
    "pg.ttest(\n",
    "    x=dau_normalized.query(\"(unit == 'unit_8') & (metric_name == 'avg_usage_normalized')\")[\"liters_used\"].astype(float),\n",
    "    y=dau_normalized.query(\"(unit == 'unit_7') & (metric_name == 'avg_usage_normalized')\")[\"liters_used\"].astype(float)\n",
    ")"
   ]
  },
  {
   "cell_type": "code",
   "execution_count": null,
   "metadata": {},
   "outputs": [],
   "source": [
    "df.to_excel(\"./TMCA_water_usage_reshape.xlsx\", header=True)\n",
    "dau_normalized.to_excel(\"./TMCA_water_usage_normalized.xlsx\", header=True)"
   ]
  }
 ],
 "metadata": {
  "kernelspec": {
   "display_name": "data_science (venv)",
   "language": "python",
   "name": "data_science"
  },
  "language_info": {
   "codemirror_mode": {
    "name": "ipython",
    "version": 3
   },
   "file_extension": ".py",
   "mimetype": "text/x-python",
   "name": "python",
   "nbconvert_exporter": "python",
   "pygments_lexer": "ipython3",
   "version": "3.6.4"
  }
 },
 "nbformat": 4,
 "nbformat_minor": 4
}
