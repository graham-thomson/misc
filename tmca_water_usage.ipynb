{
 "cells": [
  {
   "cell_type": "markdown",
   "metadata": {},
   "source": [
    "# TMCA Water Usage"
   ]
  },
  {
   "cell_type": "code",
   "execution_count": 9,
   "metadata": {},
   "outputs": [],
   "source": [
    "# imports\n",
    "import pandas as pd\n",
    "import re\n",
    "import plotly.express as px\n",
    "import pingouin as pg\n",
    "\n",
    "# display options\n",
    "pd.options.display.max_columns = 100\n",
    "\n",
    "# number of residents per unit mapping taken from https://www.tuckermathews.com/p/Residents\n",
    "n_resident_dict = {\n",
    "    'unit_1': 1,\n",
    "    'unit_2': 2,\n",
    "    'unit_3': 1,\n",
    "    'unit_4': 1,\n",
    "    'unit_5': 1,\n",
    "    'unit_6': 1,\n",
    "    'unit_7': 1,\n",
    "    'unit_8': 2,\n",
    "    'unit_9': 1,\n",
    "    'unit_1r': 1,\n",
    "    'unit_2r': 1,\n",
    "    'unit_3r': 1,\n",
    "    'unit_4r': 1\n",
    "}\n",
    "\n",
    "# convert to dataframe for joining purposes\n",
    "n_resident_lkup = pd.DataFrame(\n",
    "    n_resident_dict.items(), \n",
    "    columns=[\"unit\", \"n_residents\"]\n",
    ")\n",
    "\n",
    "# read in trustee data, reshape, and rename columns\n",
    "df = pd.read_excel(\n",
    "    \"/Users/grahamthomson/Downloads/TMCA Water Meter Readings .xlsx\", \n",
    "    engine=\"openpyxl\"\n",
    ").transpose().reset_index()\n",
    "\n",
    "units = ['unit_1', 'unit_2', 'unit_3',\n",
    "     'unit_4', 'unit_5', 'unit_6',\n",
    "     'unit_7', 'unit_8', 'unit_9',\n",
    "     'unit_1r', 'unit_2r', 'unit_3r',\n",
    "     'unit_4r']\n",
    "\n",
    "df.columns = [\"date\"] + units\n",
    "\n",
    "# filter out any row that isnt just a date and reading per unit\n",
    "df = df[df[\"date\"].apply(lambda x: True if re.match(\"\\d{4}-\\d{2}-\\d{2} \\d{2}:\\d{2}:\\d{2}\", str(x)) else False)]\n",
    "\n",
    "for c in df.columns:\n",
    "    # create lagged readings\n",
    "    df[f\"{c}_previous_reading\"] = df[f\"{c}\"].shift(1)\n",
    "    \n",
    "    # calculate reading difference and date diff\n",
    "    if c == \"date\":\n",
    "        df[\"days_between_readings\"] = (df[\"date\"] - df[f\"{c}_previous_reading\"])\n",
    "        df[\"days_between_readings\"] = df[\"days_between_readings\"].apply(lambda x: x.days)\n",
    "    else:\n",
    "        df[f\"{c}_difference\"] = df[f\"{c}\"] - df[f\"{c}_previous_reading\"]\n",
    "        df[f\"{c}_avg_daily_difference\"] = df[f\"{c}_difference\"] / df[\"days_between_readings\"]\n",
    "\n",
    "# sort columns\n",
    "df = df[sorted(df.columns)]"
   ]
  },
  {
   "cell_type": "markdown",
   "metadata": {},
   "source": [
    "## Total Usage by Unit"
   ]
  },
  {
   "cell_type": "code",
   "execution_count": 10,
   "metadata": {},
   "outputs": [
    {
     "data": {
      "text/html": [
       "<style  type=\"text/css\" >\n",
       "#T_965ed42c_43ac_11eb_81c1_34363bd16840row0_col3,#T_965ed42c_43ac_11eb_81c1_34363bd16840row1_col3,#T_965ed42c_43ac_11eb_81c1_34363bd16840row3_col3,#T_965ed42c_43ac_11eb_81c1_34363bd16840row4_col3,#T_965ed42c_43ac_11eb_81c1_34363bd16840row5_col3,#T_965ed42c_43ac_11eb_81c1_34363bd16840row6_col3,#T_965ed42c_43ac_11eb_81c1_34363bd16840row7_col3,#T_965ed42c_43ac_11eb_81c1_34363bd16840row8_col3,#T_965ed42c_43ac_11eb_81c1_34363bd16840row9_col3,#T_965ed42c_43ac_11eb_81c1_34363bd16840row10_col3,#T_965ed42c_43ac_11eb_81c1_34363bd16840row10_col4,#T_965ed42c_43ac_11eb_81c1_34363bd16840row11_col3,#T_965ed42c_43ac_11eb_81c1_34363bd16840row11_col4,#T_965ed42c_43ac_11eb_81c1_34363bd16840row12_col5{\n",
       "            background-color:  #fff7fb;\n",
       "            color:  #000000;\n",
       "        }#T_965ed42c_43ac_11eb_81c1_34363bd16840row0_col4{\n",
       "            background-color:  #8eb3d5;\n",
       "            color:  #000000;\n",
       "        }#T_965ed42c_43ac_11eb_81c1_34363bd16840row0_col5,#T_965ed42c_43ac_11eb_81c1_34363bd16840row2_col3,#T_965ed42c_43ac_11eb_81c1_34363bd16840row2_col4,#T_965ed42c_43ac_11eb_81c1_34363bd16840row12_col3{\n",
       "            background-color:  #023858;\n",
       "            color:  #f1f1f1;\n",
       "        }#T_965ed42c_43ac_11eb_81c1_34363bd16840row1_col4{\n",
       "            background-color:  #91b5d6;\n",
       "            color:  #000000;\n",
       "        }#T_965ed42c_43ac_11eb_81c1_34363bd16840row1_col5{\n",
       "            background-color:  #023d60;\n",
       "            color:  #f1f1f1;\n",
       "        }#T_965ed42c_43ac_11eb_81c1_34363bd16840row2_col5{\n",
       "            background-color:  #04588a;\n",
       "            color:  #f1f1f1;\n",
       "        }#T_965ed42c_43ac_11eb_81c1_34363bd16840row3_col4{\n",
       "            background-color:  #acc0dd;\n",
       "            color:  #000000;\n",
       "        }#T_965ed42c_43ac_11eb_81c1_34363bd16840row3_col5{\n",
       "            background-color:  #045f95;\n",
       "            color:  #f1f1f1;\n",
       "        }#T_965ed42c_43ac_11eb_81c1_34363bd16840row4_col4,#T_965ed42c_43ac_11eb_81c1_34363bd16840row9_col5{\n",
       "            background-color:  #cacee5;\n",
       "            color:  #000000;\n",
       "        }#T_965ed42c_43ac_11eb_81c1_34363bd16840row4_col5{\n",
       "            background-color:  #2685bb;\n",
       "            color:  #000000;\n",
       "        }#T_965ed42c_43ac_11eb_81c1_34363bd16840row5_col4{\n",
       "            background-color:  #dad9ea;\n",
       "            color:  #000000;\n",
       "        }#T_965ed42c_43ac_11eb_81c1_34363bd16840row5_col5{\n",
       "            background-color:  #60a1ca;\n",
       "            color:  #000000;\n",
       "        }#T_965ed42c_43ac_11eb_81c1_34363bd16840row6_col4{\n",
       "            background-color:  #e0deed;\n",
       "            color:  #000000;\n",
       "        }#T_965ed42c_43ac_11eb_81c1_34363bd16840row6_col5{\n",
       "            background-color:  #78abd0;\n",
       "            color:  #000000;\n",
       "        }#T_965ed42c_43ac_11eb_81c1_34363bd16840row7_col4{\n",
       "            background-color:  #e5e1ef;\n",
       "            color:  #000000;\n",
       "        }#T_965ed42c_43ac_11eb_81c1_34363bd16840row7_col5{\n",
       "            background-color:  #89b1d4;\n",
       "            color:  #000000;\n",
       "        }#T_965ed42c_43ac_11eb_81c1_34363bd16840row8_col4{\n",
       "            background-color:  #f4edf6;\n",
       "            color:  #000000;\n",
       "        }#T_965ed42c_43ac_11eb_81c1_34363bd16840row8_col5{\n",
       "            background-color:  #c4cbe3;\n",
       "            color:  #000000;\n",
       "        }#T_965ed42c_43ac_11eb_81c1_34363bd16840row9_col4{\n",
       "            background-color:  #f5eff6;\n",
       "            color:  #000000;\n",
       "        }#T_965ed42c_43ac_11eb_81c1_34363bd16840row10_col5,#T_965ed42c_43ac_11eb_81c1_34363bd16840row11_col5{\n",
       "            background-color:  #e9e5f1;\n",
       "            color:  #000000;\n",
       "        }#T_965ed42c_43ac_11eb_81c1_34363bd16840row12_col4{\n",
       "            background-color:  #efe9f3;\n",
       "            color:  #000000;\n",
       "        }</style><table id=\"T_965ed42c_43ac_11eb_81c1_34363bd16840\" ><thead>    <tr>        <th class=\"col_heading level0 col0\" >unit</th>        <th class=\"col_heading level0 col1\" >total_usage</th>        <th class=\"col_heading level0 col2\" >n_residents</th>        <th class=\"col_heading level0 col3\" >n_residents_percent</th>        <th class=\"col_heading level0 col4\" >total_usage_percent</th>        <th class=\"col_heading level0 col5\" >usage_index</th>    </tr></thead><tbody>\n",
       "                <tr>\n",
       "                                <td id=\"T_965ed42c_43ac_11eb_81c1_34363bd16840row0_col0\" class=\"data row0 col0\" >unit_1</td>\n",
       "                        <td id=\"T_965ed42c_43ac_11eb_81c1_34363bd16840row0_col1\" class=\"data row0 col1\" >7131</td>\n",
       "                        <td id=\"T_965ed42c_43ac_11eb_81c1_34363bd16840row0_col2\" class=\"data row0 col2\" >1</td>\n",
       "                        <td id=\"T_965ed42c_43ac_11eb_81c1_34363bd16840row0_col3\" class=\"data row0 col3\" >6.67%</td>\n",
       "                        <td id=\"T_965ed42c_43ac_11eb_81c1_34363bd16840row0_col4\" class=\"data row0 col4\" >10.54%</td>\n",
       "                        <td id=\"T_965ed42c_43ac_11eb_81c1_34363bd16840row0_col5\" class=\"data row0 col5\" >1.581387</td>\n",
       "            </tr>\n",
       "            <tr>\n",
       "                                <td id=\"T_965ed42c_43ac_11eb_81c1_34363bd16840row1_col0\" class=\"data row1 col0\" >unit_2r</td>\n",
       "                        <td id=\"T_965ed42c_43ac_11eb_81c1_34363bd16840row1_col1\" class=\"data row1 col1\" >7023</td>\n",
       "                        <td id=\"T_965ed42c_43ac_11eb_81c1_34363bd16840row1_col2\" class=\"data row1 col2\" >1</td>\n",
       "                        <td id=\"T_965ed42c_43ac_11eb_81c1_34363bd16840row1_col3\" class=\"data row1 col3\" >6.67%</td>\n",
       "                        <td id=\"T_965ed42c_43ac_11eb_81c1_34363bd16840row1_col4\" class=\"data row1 col4\" >10.38%</td>\n",
       "                        <td id=\"T_965ed42c_43ac_11eb_81c1_34363bd16840row1_col5\" class=\"data row1 col5\" >1.557436</td>\n",
       "            </tr>\n",
       "            <tr>\n",
       "                                <td id=\"T_965ed42c_43ac_11eb_81c1_34363bd16840row2_col0\" class=\"data row2 col0\" >unit_8</td>\n",
       "                        <td id=\"T_965ed42c_43ac_11eb_81c1_34363bd16840row2_col1\" class=\"data row2 col1\" >12994</td>\n",
       "                        <td id=\"T_965ed42c_43ac_11eb_81c1_34363bd16840row2_col2\" class=\"data row2 col2\" >2</td>\n",
       "                        <td id=\"T_965ed42c_43ac_11eb_81c1_34363bd16840row2_col3\" class=\"data row2 col3\" >13.33%</td>\n",
       "                        <td id=\"T_965ed42c_43ac_11eb_81c1_34363bd16840row2_col4\" class=\"data row2 col4\" >19.21%</td>\n",
       "                        <td id=\"T_965ed42c_43ac_11eb_81c1_34363bd16840row2_col5\" class=\"data row2 col5\" >1.440789</td>\n",
       "            </tr>\n",
       "            <tr>\n",
       "                                <td id=\"T_965ed42c_43ac_11eb_81c1_34363bd16840row3_col0\" class=\"data row3 col0\" >unit_7</td>\n",
       "                        <td id=\"T_965ed42c_43ac_11eb_81c1_34363bd16840row3_col1\" class=\"data row3 col1\" >6310</td>\n",
       "                        <td id=\"T_965ed42c_43ac_11eb_81c1_34363bd16840row3_col2\" class=\"data row3 col2\" >1</td>\n",
       "                        <td id=\"T_965ed42c_43ac_11eb_81c1_34363bd16840row3_col3\" class=\"data row3 col3\" >6.67%</td>\n",
       "                        <td id=\"T_965ed42c_43ac_11eb_81c1_34363bd16840row3_col4\" class=\"data row3 col4\" >9.33%</td>\n",
       "                        <td id=\"T_965ed42c_43ac_11eb_81c1_34363bd16840row3_col5\" class=\"data row3 col5\" >1.399320</td>\n",
       "            </tr>\n",
       "            <tr>\n",
       "                                <td id=\"T_965ed42c_43ac_11eb_81c1_34363bd16840row4_col0\" class=\"data row4 col0\" >unit_6</td>\n",
       "                        <td id=\"T_965ed42c_43ac_11eb_81c1_34363bd16840row4_col1\" class=\"data row4 col1\" >5360</td>\n",
       "                        <td id=\"T_965ed42c_43ac_11eb_81c1_34363bd16840row4_col2\" class=\"data row4 col2\" >1</td>\n",
       "                        <td id=\"T_965ed42c_43ac_11eb_81c1_34363bd16840row4_col3\" class=\"data row4 col3\" >6.67%</td>\n",
       "                        <td id=\"T_965ed42c_43ac_11eb_81c1_34363bd16840row4_col4\" class=\"data row4 col4\" >7.92%</td>\n",
       "                        <td id=\"T_965ed42c_43ac_11eb_81c1_34363bd16840row4_col5\" class=\"data row4 col5\" >1.188646</td>\n",
       "            </tr>\n",
       "            <tr>\n",
       "                                <td id=\"T_965ed42c_43ac_11eb_81c1_34363bd16840row5_col0\" class=\"data row5 col0\" >unit_5</td>\n",
       "                        <td id=\"T_965ed42c_43ac_11eb_81c1_34363bd16840row5_col1\" class=\"data row5 col1\" >4712</td>\n",
       "                        <td id=\"T_965ed42c_43ac_11eb_81c1_34363bd16840row5_col2\" class=\"data row5 col2\" >1</td>\n",
       "                        <td id=\"T_965ed42c_43ac_11eb_81c1_34363bd16840row5_col3\" class=\"data row5 col3\" >6.67%</td>\n",
       "                        <td id=\"T_965ed42c_43ac_11eb_81c1_34363bd16840row5_col4\" class=\"data row5 col4\" >6.97%</td>\n",
       "                        <td id=\"T_965ed42c_43ac_11eb_81c1_34363bd16840row5_col5\" class=\"data row5 col5\" >1.044944</td>\n",
       "            </tr>\n",
       "            <tr>\n",
       "                                <td id=\"T_965ed42c_43ac_11eb_81c1_34363bd16840row6_col0\" class=\"data row6 col0\" >unit_3r</td>\n",
       "                        <td id=\"T_965ed42c_43ac_11eb_81c1_34363bd16840row6_col1\" class=\"data row6 col1\" >4433</td>\n",
       "                        <td id=\"T_965ed42c_43ac_11eb_81c1_34363bd16840row6_col2\" class=\"data row6 col2\" >1</td>\n",
       "                        <td id=\"T_965ed42c_43ac_11eb_81c1_34363bd16840row6_col3\" class=\"data row6 col3\" >6.67%</td>\n",
       "                        <td id=\"T_965ed42c_43ac_11eb_81c1_34363bd16840row6_col4\" class=\"data row6 col4\" >6.55%</td>\n",
       "                        <td id=\"T_965ed42c_43ac_11eb_81c1_34363bd16840row6_col5\" class=\"data row6 col5\" >0.983072</td>\n",
       "            </tr>\n",
       "            <tr>\n",
       "                                <td id=\"T_965ed42c_43ac_11eb_81c1_34363bd16840row7_col0\" class=\"data row7 col0\" >unit_4r</td>\n",
       "                        <td id=\"T_965ed42c_43ac_11eb_81c1_34363bd16840row7_col1\" class=\"data row7 col1\" >4208</td>\n",
       "                        <td id=\"T_965ed42c_43ac_11eb_81c1_34363bd16840row7_col2\" class=\"data row7 col2\" >1</td>\n",
       "                        <td id=\"T_965ed42c_43ac_11eb_81c1_34363bd16840row7_col3\" class=\"data row7 col3\" >6.67%</td>\n",
       "                        <td id=\"T_965ed42c_43ac_11eb_81c1_34363bd16840row7_col4\" class=\"data row7 col4\" >6.22%</td>\n",
       "                        <td id=\"T_965ed42c_43ac_11eb_81c1_34363bd16840row7_col5\" class=\"data row7 col5\" >0.933176</td>\n",
       "            </tr>\n",
       "            <tr>\n",
       "                                <td id=\"T_965ed42c_43ac_11eb_81c1_34363bd16840row8_col0\" class=\"data row8 col0\" >unit_3</td>\n",
       "                        <td id=\"T_965ed42c_43ac_11eb_81c1_34363bd16840row8_col1\" class=\"data row8 col1\" >3356</td>\n",
       "                        <td id=\"T_965ed42c_43ac_11eb_81c1_34363bd16840row8_col2\" class=\"data row8 col2\" >1</td>\n",
       "                        <td id=\"T_965ed42c_43ac_11eb_81c1_34363bd16840row8_col3\" class=\"data row8 col3\" >6.67%</td>\n",
       "                        <td id=\"T_965ed42c_43ac_11eb_81c1_34363bd16840row8_col4\" class=\"data row8 col4\" >4.96%</td>\n",
       "                        <td id=\"T_965ed42c_43ac_11eb_81c1_34363bd16840row8_col5\" class=\"data row8 col5\" >0.744234</td>\n",
       "            </tr>\n",
       "            <tr>\n",
       "                                <td id=\"T_965ed42c_43ac_11eb_81c1_34363bd16840row9_col0\" class=\"data row9 col0\" >unit_4</td>\n",
       "                        <td id=\"T_965ed42c_43ac_11eb_81c1_34363bd16840row9_col1\" class=\"data row9 col1\" >3261</td>\n",
       "                        <td id=\"T_965ed42c_43ac_11eb_81c1_34363bd16840row9_col2\" class=\"data row9 col2\" >1</td>\n",
       "                        <td id=\"T_965ed42c_43ac_11eb_81c1_34363bd16840row9_col3\" class=\"data row9 col3\" >6.67%</td>\n",
       "                        <td id=\"T_965ed42c_43ac_11eb_81c1_34363bd16840row9_col4\" class=\"data row9 col4\" >4.82%</td>\n",
       "                        <td id=\"T_965ed42c_43ac_11eb_81c1_34363bd16840row9_col5\" class=\"data row9 col5\" >0.723167</td>\n",
       "            </tr>\n",
       "            <tr>\n",
       "                                <td id=\"T_965ed42c_43ac_11eb_81c1_34363bd16840row10_col0\" class=\"data row10 col0\" >unit_9</td>\n",
       "                        <td id=\"T_965ed42c_43ac_11eb_81c1_34363bd16840row10_col1\" class=\"data row10 col1\" >2579</td>\n",
       "                        <td id=\"T_965ed42c_43ac_11eb_81c1_34363bd16840row10_col2\" class=\"data row10 col2\" >1</td>\n",
       "                        <td id=\"T_965ed42c_43ac_11eb_81c1_34363bd16840row10_col3\" class=\"data row10 col3\" >6.67%</td>\n",
       "                        <td id=\"T_965ed42c_43ac_11eb_81c1_34363bd16840row10_col4\" class=\"data row10 col4\" >3.81%</td>\n",
       "                        <td id=\"T_965ed42c_43ac_11eb_81c1_34363bd16840row10_col5\" class=\"data row10 col5\" >0.571925</td>\n",
       "            </tr>\n",
       "            <tr>\n",
       "                                <td id=\"T_965ed42c_43ac_11eb_81c1_34363bd16840row11_col0\" class=\"data row11 col0\" >unit_1r</td>\n",
       "                        <td id=\"T_965ed42c_43ac_11eb_81c1_34363bd16840row11_col1\" class=\"data row11 col1\" >2577</td>\n",
       "                        <td id=\"T_965ed42c_43ac_11eb_81c1_34363bd16840row11_col2\" class=\"data row11 col2\" >1</td>\n",
       "                        <td id=\"T_965ed42c_43ac_11eb_81c1_34363bd16840row11_col3\" class=\"data row11 col3\" >6.67%</td>\n",
       "                        <td id=\"T_965ed42c_43ac_11eb_81c1_34363bd16840row11_col4\" class=\"data row11 col4\" >3.81%</td>\n",
       "                        <td id=\"T_965ed42c_43ac_11eb_81c1_34363bd16840row11_col5\" class=\"data row11 col5\" >0.571481</td>\n",
       "            </tr>\n",
       "            <tr>\n",
       "                                <td id=\"T_965ed42c_43ac_11eb_81c1_34363bd16840row12_col0\" class=\"data row12 col0\" >unit_2</td>\n",
       "                        <td id=\"T_965ed42c_43ac_11eb_81c1_34363bd16840row12_col1\" class=\"data row12 col1\" >3696</td>\n",
       "                        <td id=\"T_965ed42c_43ac_11eb_81c1_34363bd16840row12_col2\" class=\"data row12 col2\" >2</td>\n",
       "                        <td id=\"T_965ed42c_43ac_11eb_81c1_34363bd16840row12_col3\" class=\"data row12 col3\" >13.33%</td>\n",
       "                        <td id=\"T_965ed42c_43ac_11eb_81c1_34363bd16840row12_col4\" class=\"data row12 col4\" >5.46%</td>\n",
       "                        <td id=\"T_965ed42c_43ac_11eb_81c1_34363bd16840row12_col5\" class=\"data row12 col5\" >0.409817</td>\n",
       "            </tr>\n",
       "    </tbody></table>"
      ],
      "text/plain": [
       "<pandas.io.formats.style.Styler at 0x125cd4d68>"
      ]
     },
     "execution_count": 10,
     "metadata": {},
     "output_type": "execute_result"
    }
   ],
   "source": [
    "total_usage = pd.DataFrame([[u, df[u].max() - df[u].min(), n_resident_dict[u]] for u in units], columns=[\"unit\", \"total_usage\", \"n_residents\"])\n",
    "total_usage[\"n_residents_percent\"] = total_usage[\"n_residents\"] / total_usage[\"n_residents\"].sum()\n",
    "total_usage[\"total_usage_percent\"] = total_usage[\"total_usage\"] / total_usage[\"total_usage\"].sum()\n",
    "total_usage[\"usage_index\"] = total_usage[\"total_usage_percent\"] / total_usage[\"n_residents_percent\"]\n",
    "total_usage = total_usage.sort_values(\"usage_index\", ascending=False)\n",
    "\n",
    "total_usage.style\\\n",
    ".background_gradient(subset=[\"total_usage_percent\", \"n_residents_percent\", \"usage_index\"])\\\n",
    ".format(\"{:.2%}\", subset=[\"total_usage_percent\", \"n_residents_percent\"])\\\n",
    ".hide_index()"
   ]
  },
  {
   "cell_type": "markdown",
   "metadata": {},
   "source": [
    "## Box Plots / Normalization"
   ]
  },
  {
   "cell_type": "code",
   "execution_count": 11,
   "metadata": {},
   "outputs": [
    {
     "data": {
      "application/vnd.plotly.v1+json": {
       "config": {
        "plotlyServerURL": "https://plot.ly"
       },
       "data": [
        {
         "alignmentgroup": "True",
         "hovertemplate": "metric_name=avg_usage<br>unit=%{x}<br>liters_used=%{y}<extra></extra>",
         "legendgroup": "avg_usage",
         "marker": {
          "color": "#636efa"
         },
         "name": "avg_usage",
         "notched": false,
         "offsetgroup": "avg_usage",
         "orientation": "v",
         "showlegend": true,
         "type": "box",
         "x": [
          "unit_1",
          "unit_1",
          "unit_1",
          "unit_1",
          "unit_1",
          "unit_1",
          "unit_1",
          "unit_1",
          "unit_1",
          "unit_1",
          "unit_1",
          "unit_1",
          "unit_1r",
          "unit_1r",
          "unit_1r",
          "unit_1r",
          "unit_1r",
          "unit_1r",
          "unit_1r",
          "unit_1r",
          "unit_1r",
          "unit_1r",
          "unit_1r",
          "unit_1r",
          "unit_2",
          "unit_2",
          "unit_2",
          "unit_2",
          "unit_2",
          "unit_2",
          "unit_2",
          "unit_2",
          "unit_2",
          "unit_2",
          "unit_2",
          "unit_2",
          "unit_2r",
          "unit_2r",
          "unit_2r",
          "unit_2r",
          "unit_2r",
          "unit_2r",
          "unit_2r",
          "unit_2r",
          "unit_2r",
          "unit_2r",
          "unit_2r",
          "unit_2r",
          "unit_3",
          "unit_3",
          "unit_3",
          "unit_3",
          "unit_3",
          "unit_3",
          "unit_3",
          "unit_3",
          "unit_3",
          "unit_3",
          "unit_3",
          "unit_3",
          "unit_3r",
          "unit_3r",
          "unit_3r",
          "unit_3r",
          "unit_3r",
          "unit_3r",
          "unit_3r",
          "unit_3r",
          "unit_3r",
          "unit_3r",
          "unit_3r",
          "unit_3r",
          "unit_4",
          "unit_4",
          "unit_4",
          "unit_4",
          "unit_4",
          "unit_4",
          "unit_4",
          "unit_4",
          "unit_4",
          "unit_4",
          "unit_4",
          "unit_4",
          "unit_4r",
          "unit_4r",
          "unit_4r",
          "unit_4r",
          "unit_4r",
          "unit_4r",
          "unit_4r",
          "unit_4r",
          "unit_4r",
          "unit_4r",
          "unit_4r",
          "unit_4r",
          "unit_5",
          "unit_5",
          "unit_5",
          "unit_5",
          "unit_5",
          "unit_5",
          "unit_5",
          "unit_5",
          "unit_5",
          "unit_5",
          "unit_5",
          "unit_5",
          "unit_6",
          "unit_6",
          "unit_6",
          "unit_6",
          "unit_6",
          "unit_6",
          "unit_6",
          "unit_6",
          "unit_6",
          "unit_6",
          "unit_6",
          "unit_6",
          "unit_7",
          "unit_7",
          "unit_7",
          "unit_7",
          "unit_7",
          "unit_7",
          "unit_7",
          "unit_7",
          "unit_7",
          "unit_7",
          "unit_7",
          "unit_7",
          "unit_8",
          "unit_8",
          "unit_8",
          "unit_8",
          "unit_8",
          "unit_8",
          "unit_8",
          "unit_8",
          "unit_8",
          "unit_8",
          "unit_8",
          "unit_8",
          "unit_9",
          "unit_9",
          "unit_9",
          "unit_9",
          "unit_9",
          "unit_9",
          "unit_9",
          "unit_9",
          "unit_9",
          "unit_9",
          "unit_9",
          "unit_9"
         ],
         "x0": " ",
         "xaxis": "x",
         "y": [
          330.5,
          366,
          315,
          304,
          397,
          293.75,
          346,
          211,
          223,
          262,
          258,
          288,
          95.5,
          118,
          216,
          105,
          93.5,
          133.25,
          109.5,
          122,
          119,
          83.33333333333333,
          80,
          100,
          89,
          143.5,
          178,
          89,
          239,
          213.75,
          129.25,
          145,
          139,
          160,
          196,
          154,
          315.5,
          306,
          240,
          211,
          354,
          341,
          297.25,
          282,
          244,
          323.6666666666667,
          228,
          343,
          87,
          172.5,
          111,
          150,
          126,
          191.25,
          138,
          243,
          157,
          135.33333333333334,
          107,
          94,
          168,
          244,
          90,
          187,
          149,
          206.25,
          189.25,
          205,
          180,
          189.33333333333334,
          215,
          284,
          190,
          153,
          161,
          121,
          123,
          130.5,
          127,
          321,
          92,
          124.33333333333333,
          60,
          171,
          179.5,
          102.5,
          238,
          383,
          187,
          146.5,
          187.75,
          336,
          140,
          173,
          138,
          179,
          250.5,
          217,
          128,
          284,
          198.5,
          210.25,
          169.25,
          217,
          270,
          212.33333333333334,
          160,
          166,
          232.5,
          260,
          174,
          145,
          286.5,
          205,
          252.25,
          151,
          183,
          272,
          383,
          121,
          174,
          337,
          343,
          934,
          232.5,
          195.5,
          279.5,
          212,
          339,
          193.66666666666666,
          233,
          281,
          587.5,
          1039.5,
          733,
          483,
          240.5,
          570.5,
          631.75,
          3,
          167,
          625,
          608,
          581,
          82,
          140,
          104,
          102,
          131.5,
          124.25,
          99,
          60,
          180,
          110,
          153,
          50
         ],
         "y0": " ",
         "yaxis": "y"
        },
        {
         "alignmentgroup": "True",
         "hovertemplate": "metric_name=avg_usage_normalized<br>unit=%{x}<br>liters_used=%{y}<extra></extra>",
         "legendgroup": "avg_usage_normalized",
         "marker": {
          "color": "#EF553B"
         },
         "name": "avg_usage_normalized",
         "notched": false,
         "offsetgroup": "avg_usage_normalized",
         "orientation": "v",
         "showlegend": true,
         "type": "box",
         "x": [
          "unit_1",
          "unit_1",
          "unit_1",
          "unit_1",
          "unit_1",
          "unit_1",
          "unit_1",
          "unit_1",
          "unit_1",
          "unit_1",
          "unit_1",
          "unit_1",
          "unit_1r",
          "unit_1r",
          "unit_1r",
          "unit_1r",
          "unit_1r",
          "unit_1r",
          "unit_1r",
          "unit_1r",
          "unit_1r",
          "unit_1r",
          "unit_1r",
          "unit_1r",
          "unit_2",
          "unit_2",
          "unit_2",
          "unit_2",
          "unit_2",
          "unit_2",
          "unit_2",
          "unit_2",
          "unit_2",
          "unit_2",
          "unit_2",
          "unit_2",
          "unit_2r",
          "unit_2r",
          "unit_2r",
          "unit_2r",
          "unit_2r",
          "unit_2r",
          "unit_2r",
          "unit_2r",
          "unit_2r",
          "unit_2r",
          "unit_2r",
          "unit_2r",
          "unit_3",
          "unit_3",
          "unit_3",
          "unit_3",
          "unit_3",
          "unit_3",
          "unit_3",
          "unit_3",
          "unit_3",
          "unit_3",
          "unit_3",
          "unit_3",
          "unit_3r",
          "unit_3r",
          "unit_3r",
          "unit_3r",
          "unit_3r",
          "unit_3r",
          "unit_3r",
          "unit_3r",
          "unit_3r",
          "unit_3r",
          "unit_3r",
          "unit_3r",
          "unit_4",
          "unit_4",
          "unit_4",
          "unit_4",
          "unit_4",
          "unit_4",
          "unit_4",
          "unit_4",
          "unit_4",
          "unit_4",
          "unit_4",
          "unit_4",
          "unit_4r",
          "unit_4r",
          "unit_4r",
          "unit_4r",
          "unit_4r",
          "unit_4r",
          "unit_4r",
          "unit_4r",
          "unit_4r",
          "unit_4r",
          "unit_4r",
          "unit_4r",
          "unit_5",
          "unit_5",
          "unit_5",
          "unit_5",
          "unit_5",
          "unit_5",
          "unit_5",
          "unit_5",
          "unit_5",
          "unit_5",
          "unit_5",
          "unit_5",
          "unit_6",
          "unit_6",
          "unit_6",
          "unit_6",
          "unit_6",
          "unit_6",
          "unit_6",
          "unit_6",
          "unit_6",
          "unit_6",
          "unit_6",
          "unit_6",
          "unit_7",
          "unit_7",
          "unit_7",
          "unit_7",
          "unit_7",
          "unit_7",
          "unit_7",
          "unit_7",
          "unit_7",
          "unit_7",
          "unit_7",
          "unit_7",
          "unit_8",
          "unit_8",
          "unit_8",
          "unit_8",
          "unit_8",
          "unit_8",
          "unit_8",
          "unit_8",
          "unit_8",
          "unit_8",
          "unit_8",
          "unit_8",
          "unit_9",
          "unit_9",
          "unit_9",
          "unit_9",
          "unit_9",
          "unit_9",
          "unit_9",
          "unit_9",
          "unit_9",
          "unit_9",
          "unit_9",
          "unit_9"
         ],
         "x0": " ",
         "xaxis": "x",
         "y": [
          330.5,
          366,
          315,
          304,
          397,
          293.75,
          346,
          211,
          223,
          262,
          258,
          288,
          95.5,
          118,
          216,
          105,
          93.5,
          133.25,
          109.5,
          122,
          119,
          83.33333333333333,
          80,
          100,
          44.5,
          71.75,
          89,
          44.5,
          119.5,
          106.875,
          64.625,
          72.5,
          69.5,
          80,
          98,
          77,
          315.5,
          306,
          240,
          211,
          354,
          341,
          297.25,
          282,
          244,
          323.6666666666667,
          228,
          343,
          87,
          172.5,
          111,
          150,
          126,
          191.25,
          138,
          243,
          157,
          135.33333333333334,
          107,
          94,
          168,
          244,
          90,
          187,
          149,
          206.25,
          189.25,
          205,
          180,
          189.33333333333334,
          215,
          284,
          190,
          153,
          161,
          121,
          123,
          130.5,
          127,
          321,
          92,
          124.33333333333333,
          60,
          171,
          179.5,
          102.5,
          238,
          383,
          187,
          146.5,
          187.75,
          336,
          140,
          173,
          138,
          179,
          250.5,
          217,
          128,
          284,
          198.5,
          210.25,
          169.25,
          217,
          270,
          212.33333333333334,
          160,
          166,
          232.5,
          260,
          174,
          145,
          286.5,
          205,
          252.25,
          151,
          183,
          272,
          383,
          121,
          174,
          337,
          343,
          934,
          232.5,
          195.5,
          279.5,
          212,
          339,
          193.66666666666666,
          233,
          281,
          293.75,
          519.75,
          366.5,
          241.5,
          120.25,
          285.25,
          315.875,
          1.5,
          83.5,
          312.5,
          304,
          290.5,
          82,
          140,
          104,
          102,
          131.5,
          124.25,
          99,
          60,
          180,
          110,
          153,
          50
         ],
         "y0": " ",
         "yaxis": "y"
        }
       ],
       "layout": {
        "autosize": true,
        "boxmode": "group",
        "legend": {
         "title": {
          "text": "metric_name"
         },
         "tracegroupgap": 0
        },
        "template": {
         "data": {
          "bar": [
           {
            "error_x": {
             "color": "#2a3f5f"
            },
            "error_y": {
             "color": "#2a3f5f"
            },
            "marker": {
             "line": {
              "color": "#E5ECF6",
              "width": 0.5
             }
            },
            "type": "bar"
           }
          ],
          "barpolar": [
           {
            "marker": {
             "line": {
              "color": "#E5ECF6",
              "width": 0.5
             }
            },
            "type": "barpolar"
           }
          ],
          "carpet": [
           {
            "aaxis": {
             "endlinecolor": "#2a3f5f",
             "gridcolor": "white",
             "linecolor": "white",
             "minorgridcolor": "white",
             "startlinecolor": "#2a3f5f"
            },
            "baxis": {
             "endlinecolor": "#2a3f5f",
             "gridcolor": "white",
             "linecolor": "white",
             "minorgridcolor": "white",
             "startlinecolor": "#2a3f5f"
            },
            "type": "carpet"
           }
          ],
          "choropleth": [
           {
            "colorbar": {
             "outlinewidth": 0,
             "ticks": ""
            },
            "type": "choropleth"
           }
          ],
          "contour": [
           {
            "colorbar": {
             "outlinewidth": 0,
             "ticks": ""
            },
            "colorscale": [
             [
              0,
              "#0d0887"
             ],
             [
              0.1111111111111111,
              "#46039f"
             ],
             [
              0.2222222222222222,
              "#7201a8"
             ],
             [
              0.3333333333333333,
              "#9c179e"
             ],
             [
              0.4444444444444444,
              "#bd3786"
             ],
             [
              0.5555555555555556,
              "#d8576b"
             ],
             [
              0.6666666666666666,
              "#ed7953"
             ],
             [
              0.7777777777777778,
              "#fb9f3a"
             ],
             [
              0.8888888888888888,
              "#fdca26"
             ],
             [
              1,
              "#f0f921"
             ]
            ],
            "type": "contour"
           }
          ],
          "contourcarpet": [
           {
            "colorbar": {
             "outlinewidth": 0,
             "ticks": ""
            },
            "type": "contourcarpet"
           }
          ],
          "heatmap": [
           {
            "colorbar": {
             "outlinewidth": 0,
             "ticks": ""
            },
            "colorscale": [
             [
              0,
              "#0d0887"
             ],
             [
              0.1111111111111111,
              "#46039f"
             ],
             [
              0.2222222222222222,
              "#7201a8"
             ],
             [
              0.3333333333333333,
              "#9c179e"
             ],
             [
              0.4444444444444444,
              "#bd3786"
             ],
             [
              0.5555555555555556,
              "#d8576b"
             ],
             [
              0.6666666666666666,
              "#ed7953"
             ],
             [
              0.7777777777777778,
              "#fb9f3a"
             ],
             [
              0.8888888888888888,
              "#fdca26"
             ],
             [
              1,
              "#f0f921"
             ]
            ],
            "type": "heatmap"
           }
          ],
          "heatmapgl": [
           {
            "colorbar": {
             "outlinewidth": 0,
             "ticks": ""
            },
            "colorscale": [
             [
              0,
              "#0d0887"
             ],
             [
              0.1111111111111111,
              "#46039f"
             ],
             [
              0.2222222222222222,
              "#7201a8"
             ],
             [
              0.3333333333333333,
              "#9c179e"
             ],
             [
              0.4444444444444444,
              "#bd3786"
             ],
             [
              0.5555555555555556,
              "#d8576b"
             ],
             [
              0.6666666666666666,
              "#ed7953"
             ],
             [
              0.7777777777777778,
              "#fb9f3a"
             ],
             [
              0.8888888888888888,
              "#fdca26"
             ],
             [
              1,
              "#f0f921"
             ]
            ],
            "type": "heatmapgl"
           }
          ],
          "histogram": [
           {
            "marker": {
             "colorbar": {
              "outlinewidth": 0,
              "ticks": ""
             }
            },
            "type": "histogram"
           }
          ],
          "histogram2d": [
           {
            "colorbar": {
             "outlinewidth": 0,
             "ticks": ""
            },
            "colorscale": [
             [
              0,
              "#0d0887"
             ],
             [
              0.1111111111111111,
              "#46039f"
             ],
             [
              0.2222222222222222,
              "#7201a8"
             ],
             [
              0.3333333333333333,
              "#9c179e"
             ],
             [
              0.4444444444444444,
              "#bd3786"
             ],
             [
              0.5555555555555556,
              "#d8576b"
             ],
             [
              0.6666666666666666,
              "#ed7953"
             ],
             [
              0.7777777777777778,
              "#fb9f3a"
             ],
             [
              0.8888888888888888,
              "#fdca26"
             ],
             [
              1,
              "#f0f921"
             ]
            ],
            "type": "histogram2d"
           }
          ],
          "histogram2dcontour": [
           {
            "colorbar": {
             "outlinewidth": 0,
             "ticks": ""
            },
            "colorscale": [
             [
              0,
              "#0d0887"
             ],
             [
              0.1111111111111111,
              "#46039f"
             ],
             [
              0.2222222222222222,
              "#7201a8"
             ],
             [
              0.3333333333333333,
              "#9c179e"
             ],
             [
              0.4444444444444444,
              "#bd3786"
             ],
             [
              0.5555555555555556,
              "#d8576b"
             ],
             [
              0.6666666666666666,
              "#ed7953"
             ],
             [
              0.7777777777777778,
              "#fb9f3a"
             ],
             [
              0.8888888888888888,
              "#fdca26"
             ],
             [
              1,
              "#f0f921"
             ]
            ],
            "type": "histogram2dcontour"
           }
          ],
          "mesh3d": [
           {
            "colorbar": {
             "outlinewidth": 0,
             "ticks": ""
            },
            "type": "mesh3d"
           }
          ],
          "parcoords": [
           {
            "line": {
             "colorbar": {
              "outlinewidth": 0,
              "ticks": ""
             }
            },
            "type": "parcoords"
           }
          ],
          "pie": [
           {
            "automargin": true,
            "type": "pie"
           }
          ],
          "scatter": [
           {
            "marker": {
             "colorbar": {
              "outlinewidth": 0,
              "ticks": ""
             }
            },
            "type": "scatter"
           }
          ],
          "scatter3d": [
           {
            "line": {
             "colorbar": {
              "outlinewidth": 0,
              "ticks": ""
             }
            },
            "marker": {
             "colorbar": {
              "outlinewidth": 0,
              "ticks": ""
             }
            },
            "type": "scatter3d"
           }
          ],
          "scattercarpet": [
           {
            "marker": {
             "colorbar": {
              "outlinewidth": 0,
              "ticks": ""
             }
            },
            "type": "scattercarpet"
           }
          ],
          "scattergeo": [
           {
            "marker": {
             "colorbar": {
              "outlinewidth": 0,
              "ticks": ""
             }
            },
            "type": "scattergeo"
           }
          ],
          "scattergl": [
           {
            "marker": {
             "colorbar": {
              "outlinewidth": 0,
              "ticks": ""
             }
            },
            "type": "scattergl"
           }
          ],
          "scattermapbox": [
           {
            "marker": {
             "colorbar": {
              "outlinewidth": 0,
              "ticks": ""
             }
            },
            "type": "scattermapbox"
           }
          ],
          "scatterpolar": [
           {
            "marker": {
             "colorbar": {
              "outlinewidth": 0,
              "ticks": ""
             }
            },
            "type": "scatterpolar"
           }
          ],
          "scatterpolargl": [
           {
            "marker": {
             "colorbar": {
              "outlinewidth": 0,
              "ticks": ""
             }
            },
            "type": "scatterpolargl"
           }
          ],
          "scatterternary": [
           {
            "marker": {
             "colorbar": {
              "outlinewidth": 0,
              "ticks": ""
             }
            },
            "type": "scatterternary"
           }
          ],
          "surface": [
           {
            "colorbar": {
             "outlinewidth": 0,
             "ticks": ""
            },
            "colorscale": [
             [
              0,
              "#0d0887"
             ],
             [
              0.1111111111111111,
              "#46039f"
             ],
             [
              0.2222222222222222,
              "#7201a8"
             ],
             [
              0.3333333333333333,
              "#9c179e"
             ],
             [
              0.4444444444444444,
              "#bd3786"
             ],
             [
              0.5555555555555556,
              "#d8576b"
             ],
             [
              0.6666666666666666,
              "#ed7953"
             ],
             [
              0.7777777777777778,
              "#fb9f3a"
             ],
             [
              0.8888888888888888,
              "#fdca26"
             ],
             [
              1,
              "#f0f921"
             ]
            ],
            "type": "surface"
           }
          ],
          "table": [
           {
            "cells": {
             "fill": {
              "color": "#EBF0F8"
             },
             "line": {
              "color": "white"
             }
            },
            "header": {
             "fill": {
              "color": "#C8D4E3"
             },
             "line": {
              "color": "white"
             }
            },
            "type": "table"
           }
          ]
         },
         "layout": {
          "annotationdefaults": {
           "arrowcolor": "#2a3f5f",
           "arrowhead": 0,
           "arrowwidth": 1
          },
          "coloraxis": {
           "colorbar": {
            "outlinewidth": 0,
            "ticks": ""
           }
          },
          "colorscale": {
           "diverging": [
            [
             0,
             "#8e0152"
            ],
            [
             0.1,
             "#c51b7d"
            ],
            [
             0.2,
             "#de77ae"
            ],
            [
             0.3,
             "#f1b6da"
            ],
            [
             0.4,
             "#fde0ef"
            ],
            [
             0.5,
             "#f7f7f7"
            ],
            [
             0.6,
             "#e6f5d0"
            ],
            [
             0.7,
             "#b8e186"
            ],
            [
             0.8,
             "#7fbc41"
            ],
            [
             0.9,
             "#4d9221"
            ],
            [
             1,
             "#276419"
            ]
           ],
           "sequential": [
            [
             0,
             "#0d0887"
            ],
            [
             0.1111111111111111,
             "#46039f"
            ],
            [
             0.2222222222222222,
             "#7201a8"
            ],
            [
             0.3333333333333333,
             "#9c179e"
            ],
            [
             0.4444444444444444,
             "#bd3786"
            ],
            [
             0.5555555555555556,
             "#d8576b"
            ],
            [
             0.6666666666666666,
             "#ed7953"
            ],
            [
             0.7777777777777778,
             "#fb9f3a"
            ],
            [
             0.8888888888888888,
             "#fdca26"
            ],
            [
             1,
             "#f0f921"
            ]
           ],
           "sequentialminus": [
            [
             0,
             "#0d0887"
            ],
            [
             0.1111111111111111,
             "#46039f"
            ],
            [
             0.2222222222222222,
             "#7201a8"
            ],
            [
             0.3333333333333333,
             "#9c179e"
            ],
            [
             0.4444444444444444,
             "#bd3786"
            ],
            [
             0.5555555555555556,
             "#d8576b"
            ],
            [
             0.6666666666666666,
             "#ed7953"
            ],
            [
             0.7777777777777778,
             "#fb9f3a"
            ],
            [
             0.8888888888888888,
             "#fdca26"
            ],
            [
             1,
             "#f0f921"
            ]
           ]
          },
          "colorway": [
           "#636efa",
           "#EF553B",
           "#00cc96",
           "#ab63fa",
           "#FFA15A",
           "#19d3f3",
           "#FF6692",
           "#B6E880",
           "#FF97FF",
           "#FECB52"
          ],
          "font": {
           "color": "#2a3f5f"
          },
          "geo": {
           "bgcolor": "white",
           "lakecolor": "white",
           "landcolor": "#E5ECF6",
           "showlakes": true,
           "showland": true,
           "subunitcolor": "white"
          },
          "hoverlabel": {
           "align": "left"
          },
          "hovermode": "closest",
          "mapbox": {
           "style": "light"
          },
          "paper_bgcolor": "white",
          "plot_bgcolor": "#E5ECF6",
          "polar": {
           "angularaxis": {
            "gridcolor": "white",
            "linecolor": "white",
            "ticks": ""
           },
           "bgcolor": "#E5ECF6",
           "radialaxis": {
            "gridcolor": "white",
            "linecolor": "white",
            "ticks": ""
           }
          },
          "scene": {
           "xaxis": {
            "backgroundcolor": "#E5ECF6",
            "gridcolor": "white",
            "gridwidth": 2,
            "linecolor": "white",
            "showbackground": true,
            "ticks": "",
            "zerolinecolor": "white"
           },
           "yaxis": {
            "backgroundcolor": "#E5ECF6",
            "gridcolor": "white",
            "gridwidth": 2,
            "linecolor": "white",
            "showbackground": true,
            "ticks": "",
            "zerolinecolor": "white"
           },
           "zaxis": {
            "backgroundcolor": "#E5ECF6",
            "gridcolor": "white",
            "gridwidth": 2,
            "linecolor": "white",
            "showbackground": true,
            "ticks": "",
            "zerolinecolor": "white"
           }
          },
          "shapedefaults": {
           "line": {
            "color": "#2a3f5f"
           }
          },
          "ternary": {
           "aaxis": {
            "gridcolor": "white",
            "linecolor": "white",
            "ticks": ""
           },
           "baxis": {
            "gridcolor": "white",
            "linecolor": "white",
            "ticks": ""
           },
           "bgcolor": "#E5ECF6",
           "caxis": {
            "gridcolor": "white",
            "linecolor": "white",
            "ticks": ""
           }
          },
          "title": {
           "x": 0.05
          },
          "xaxis": {
           "automargin": true,
           "gridcolor": "white",
           "linecolor": "white",
           "ticks": "",
           "title": {
            "standoff": 15
           },
           "zerolinecolor": "white",
           "zerolinewidth": 2
          },
          "yaxis": {
           "automargin": true,
           "gridcolor": "white",
           "linecolor": "white",
           "ticks": "",
           "title": {
            "standoff": 15
           },
           "zerolinecolor": "white",
           "zerolinewidth": 2
          }
         }
        },
        "title": {
         "text": "Average Daily Water Usage by Unit"
        },
        "xaxis": {
         "anchor": "y",
         "autorange": true,
         "domain": [
          0,
          1
         ],
         "range": [
          -0.5602782071097372,
          12.560278207109738
         ],
         "title": {
          "text": "unit"
         },
         "type": "category"
        },
        "yaxis": {
         "anchor": "x",
         "autorange": true,
         "domain": [
          0,
          1
         ],
         "range": [
          -56.16666666666667,
          1097.1666666666667
         ],
         "title": {
          "text": "liters_used"
         },
         "type": "linear"
        }
       }
      },
      "image/png": "[encoded data removed]",
      "text/html": [
       "<div>                            <div id=\"b1f0274f-f1e2-45f4-9707-f6c45d02c829\" class=\"plotly-graph-div\" style=\"height:525px; width:100%;\"></div>            <script type=\"text/javascript\">                require([\"plotly\"], function(Plotly) {                    window.PLOTLYENV=window.PLOTLYENV || {};                                    if (document.getElementById(\"b1f0274f-f1e2-45f4-9707-f6c45d02c829\")) {                    Plotly.newPlot(                        \"b1f0274f-f1e2-45f4-9707-f6c45d02c829\",                        [{\"alignmentgroup\": \"True\", \"hovertemplate\": \"metric_name=avg_usage<br>unit=%{x}<br>liters_used=%{y}<extra></extra>\", \"legendgroup\": \"avg_usage\", \"marker\": {\"color\": \"#636efa\"}, \"name\": \"avg_usage\", \"notched\": false, \"offsetgroup\": \"avg_usage\", \"orientation\": \"v\", \"showlegend\": true, \"type\": \"box\", \"x\": [\"unit_1\", \"unit_1\", \"unit_1\", \"unit_1\", \"unit_1\", \"unit_1\", \"unit_1\", \"unit_1\", \"unit_1\", \"unit_1\", \"unit_1\", \"unit_1\", \"unit_1r\", \"unit_1r\", \"unit_1r\", \"unit_1r\", \"unit_1r\", \"unit_1r\", \"unit_1r\", \"unit_1r\", \"unit_1r\", \"unit_1r\", \"unit_1r\", \"unit_1r\", \"unit_2\", \"unit_2\", \"unit_2\", \"unit_2\", \"unit_2\", \"unit_2\", \"unit_2\", \"unit_2\", \"unit_2\", \"unit_2\", \"unit_2\", \"unit_2\", \"unit_2r\", \"unit_2r\", \"unit_2r\", \"unit_2r\", \"unit_2r\", \"unit_2r\", \"unit_2r\", \"unit_2r\", \"unit_2r\", \"unit_2r\", \"unit_2r\", \"unit_2r\", \"unit_3\", \"unit_3\", \"unit_3\", \"unit_3\", \"unit_3\", \"unit_3\", \"unit_3\", \"unit_3\", \"unit_3\", \"unit_3\", \"unit_3\", \"unit_3\", \"unit_3r\", \"unit_3r\", \"unit_3r\", \"unit_3r\", \"unit_3r\", \"unit_3r\", \"unit_3r\", \"unit_3r\", \"unit_3r\", \"unit_3r\", \"unit_3r\", \"unit_3r\", \"unit_4\", \"unit_4\", \"unit_4\", \"unit_4\", \"unit_4\", \"unit_4\", \"unit_4\", \"unit_4\", \"unit_4\", \"unit_4\", \"unit_4\", \"unit_4\", \"unit_4r\", \"unit_4r\", \"unit_4r\", \"unit_4r\", \"unit_4r\", \"unit_4r\", \"unit_4r\", \"unit_4r\", \"unit_4r\", \"unit_4r\", \"unit_4r\", \"unit_4r\", \"unit_5\", \"unit_5\", \"unit_5\", \"unit_5\", \"unit_5\", \"unit_5\", \"unit_5\", \"unit_5\", \"unit_5\", \"unit_5\", \"unit_5\", \"unit_5\", \"unit_6\", \"unit_6\", \"unit_6\", \"unit_6\", \"unit_6\", \"unit_6\", \"unit_6\", \"unit_6\", \"unit_6\", \"unit_6\", \"unit_6\", \"unit_6\", \"unit_7\", \"unit_7\", \"unit_7\", \"unit_7\", \"unit_7\", \"unit_7\", \"unit_7\", \"unit_7\", \"unit_7\", \"unit_7\", \"unit_7\", \"unit_7\", \"unit_8\", \"unit_8\", \"unit_8\", \"unit_8\", \"unit_8\", \"unit_8\", \"unit_8\", \"unit_8\", \"unit_8\", \"unit_8\", \"unit_8\", \"unit_8\", \"unit_9\", \"unit_9\", \"unit_9\", \"unit_9\", \"unit_9\", \"unit_9\", \"unit_9\", \"unit_9\", \"unit_9\", \"unit_9\", \"unit_9\", \"unit_9\"], \"x0\": \" \", \"xaxis\": \"x\", \"y\": [330.5, 366.0, 315.0, 304.0, 397.0, 293.75, 346.0, 211.0, 223.0, 262.0, 258.0, 288.0, 95.5, 118.0, 216.0, 105.0, 93.5, 133.25, 109.5, 122.0, 119.0, 83.33333333333333, 80.0, 100.0, 89.0, 143.5, 178.0, 89.0, 239.0, 213.75, 129.25, 145.0, 139.0, 160.0, 196.0, 154.0, 315.5, 306.0, 240.0, 211.0, 354.0, 341.0, 297.25, 282.0, 244.0, 323.6666666666667, 228.0, 343.0, 87.0, 172.5, 111.0, 150.0, 126.0, 191.25, 138.0, 243.0, 157.0, 135.33333333333334, 107.0, 94.0, 168.0, 244.0, 90.0, 187.0, 149.0, 206.25, 189.25, 205.0, 180.0, 189.33333333333334, 215.0, 284.0, 190.0, 153.0, 161.0, 121.0, 123.0, 130.5, 127.0, 321.0, 92.0, 124.33333333333333, 60.0, 171.0, 179.5, 102.5, 238.0, 383.0, 187.0, 146.5, 187.75, 336.0, 140.0, 173.0, 138.0, 179.0, 250.5, 217.0, 128.0, 284.0, 198.5, 210.25, 169.25, 217.0, 270.0, 212.33333333333334, 160.0, 166.0, 232.5, 260.0, 174.0, 145.0, 286.5, 205.0, 252.25, 151.0, 183.0, 272.0, 383.0, 121.0, 174.0, 337.0, 343.0, 934.0, 232.5, 195.5, 279.5, 212.0, 339.0, 193.66666666666666, 233.0, 281.0, 587.5, 1039.5, 733.0, 483.0, 240.5, 570.5, 631.75, 3.0, 167.0, 625.0, 608.0, 581.0, 82.0, 140.0, 104.0, 102.0, 131.5, 124.25, 99.0, 60.0, 180.0, 110.0, 153.0, 50.0], \"y0\": \" \", \"yaxis\": \"y\"}, {\"alignmentgroup\": \"True\", \"hovertemplate\": \"metric_name=avg_usage_normalized<br>unit=%{x}<br>liters_used=%{y}<extra></extra>\", \"legendgroup\": \"avg_usage_normalized\", \"marker\": {\"color\": \"#EF553B\"}, \"name\": \"avg_usage_normalized\", \"notched\": false, \"offsetgroup\": \"avg_usage_normalized\", \"orientation\": \"v\", \"showlegend\": true, \"type\": \"box\", \"x\": [\"unit_1\", \"unit_1\", \"unit_1\", \"unit_1\", \"unit_1\", \"unit_1\", \"unit_1\", \"unit_1\", \"unit_1\", \"unit_1\", \"unit_1\", \"unit_1\", \"unit_1r\", \"unit_1r\", \"unit_1r\", \"unit_1r\", \"unit_1r\", \"unit_1r\", \"unit_1r\", \"unit_1r\", \"unit_1r\", \"unit_1r\", \"unit_1r\", \"unit_1r\", \"unit_2\", \"unit_2\", \"unit_2\", \"unit_2\", \"unit_2\", \"unit_2\", \"unit_2\", \"unit_2\", \"unit_2\", \"unit_2\", \"unit_2\", \"unit_2\", \"unit_2r\", \"unit_2r\", \"unit_2r\", \"unit_2r\", \"unit_2r\", \"unit_2r\", \"unit_2r\", \"unit_2r\", \"unit_2r\", \"unit_2r\", \"unit_2r\", \"unit_2r\", \"unit_3\", \"unit_3\", \"unit_3\", \"unit_3\", \"unit_3\", \"unit_3\", \"unit_3\", \"unit_3\", \"unit_3\", \"unit_3\", \"unit_3\", \"unit_3\", \"unit_3r\", \"unit_3r\", \"unit_3r\", \"unit_3r\", \"unit_3r\", \"unit_3r\", \"unit_3r\", \"unit_3r\", \"unit_3r\", \"unit_3r\", \"unit_3r\", \"unit_3r\", \"unit_4\", \"unit_4\", \"unit_4\", \"unit_4\", \"unit_4\", \"unit_4\", \"unit_4\", \"unit_4\", \"unit_4\", \"unit_4\", \"unit_4\", \"unit_4\", \"unit_4r\", \"unit_4r\", \"unit_4r\", \"unit_4r\", \"unit_4r\", \"unit_4r\", \"unit_4r\", \"unit_4r\", \"unit_4r\", \"unit_4r\", \"unit_4r\", \"unit_4r\", \"unit_5\", \"unit_5\", \"unit_5\", \"unit_5\", \"unit_5\", \"unit_5\", \"unit_5\", \"unit_5\", \"unit_5\", \"unit_5\", \"unit_5\", \"unit_5\", \"unit_6\", \"unit_6\", \"unit_6\", \"unit_6\", \"unit_6\", \"unit_6\", \"unit_6\", \"unit_6\", \"unit_6\", \"unit_6\", \"unit_6\", \"unit_6\", \"unit_7\", \"unit_7\", \"unit_7\", \"unit_7\", \"unit_7\", \"unit_7\", \"unit_7\", \"unit_7\", \"unit_7\", \"unit_7\", \"unit_7\", \"unit_7\", \"unit_8\", \"unit_8\", \"unit_8\", \"unit_8\", \"unit_8\", \"unit_8\", \"unit_8\", \"unit_8\", \"unit_8\", \"unit_8\", \"unit_8\", \"unit_8\", \"unit_9\", \"unit_9\", \"unit_9\", \"unit_9\", \"unit_9\", \"unit_9\", \"unit_9\", \"unit_9\", \"unit_9\", \"unit_9\", \"unit_9\", \"unit_9\"], \"x0\": \" \", \"xaxis\": \"x\", \"y\": [330.5, 366.0, 315.0, 304.0, 397.0, 293.75, 346.0, 211.0, 223.0, 262.0, 258.0, 288.0, 95.5, 118.0, 216.0, 105.0, 93.5, 133.25, 109.5, 122.0, 119.0, 83.33333333333333, 80.0, 100.0, 44.5, 71.75, 89.0, 44.5, 119.5, 106.875, 64.625, 72.5, 69.5, 80.0, 98.0, 77.0, 315.5, 306.0, 240.0, 211.0, 354.0, 341.0, 297.25, 282.0, 244.0, 323.6666666666667, 228.0, 343.0, 87.0, 172.5, 111.0, 150.0, 126.0, 191.25, 138.0, 243.0, 157.0, 135.33333333333334, 107.0, 94.0, 168.0, 244.0, 90.0, 187.0, 149.0, 206.25, 189.25, 205.0, 180.0, 189.33333333333334, 215.0, 284.0, 190.0, 153.0, 161.0, 121.0, 123.0, 130.5, 127.0, 321.0, 92.0, 124.33333333333333, 60.0, 171.0, 179.5, 102.5, 238.0, 383.0, 187.0, 146.5, 187.75, 336.0, 140.0, 173.0, 138.0, 179.0, 250.5, 217.0, 128.0, 284.0, 198.5, 210.25, 169.25, 217.0, 270.0, 212.33333333333334, 160.0, 166.0, 232.5, 260.0, 174.0, 145.0, 286.5, 205.0, 252.25, 151.0, 183.0, 272.0, 383.0, 121.0, 174.0, 337.0, 343.0, 934.0, 232.5, 195.5, 279.5, 212.0, 339.0, 193.66666666666666, 233.0, 281.0, 293.75, 519.75, 366.5, 241.5, 120.25, 285.25, 315.875, 1.5, 83.5, 312.5, 304.0, 290.5, 82.0, 140.0, 104.0, 102.0, 131.5, 124.25, 99.0, 60.0, 180.0, 110.0, 153.0, 50.0], \"y0\": \" \", \"yaxis\": \"y\"}],                        {\"boxmode\": \"group\", \"legend\": {\"title\": {\"text\": \"metric_name\"}, \"tracegroupgap\": 0}, \"template\": {\"data\": {\"bar\": [{\"error_x\": {\"color\": \"#2a3f5f\"}, \"error_y\": {\"color\": \"#2a3f5f\"}, \"marker\": {\"line\": {\"color\": \"#E5ECF6\", \"width\": 0.5}}, \"type\": \"bar\"}], \"barpolar\": [{\"marker\": {\"line\": {\"color\": \"#E5ECF6\", \"width\": 0.5}}, \"type\": \"barpolar\"}], \"carpet\": [{\"aaxis\": {\"endlinecolor\": \"#2a3f5f\", \"gridcolor\": \"white\", \"linecolor\": \"white\", \"minorgridcolor\": \"white\", \"startlinecolor\": \"#2a3f5f\"}, \"baxis\": {\"endlinecolor\": \"#2a3f5f\", \"gridcolor\": \"white\", \"linecolor\": \"white\", \"minorgridcolor\": \"white\", \"startlinecolor\": \"#2a3f5f\"}, \"type\": \"carpet\"}], \"choropleth\": [{\"colorbar\": {\"outlinewidth\": 0, \"ticks\": \"\"}, \"type\": \"choropleth\"}], \"contour\": [{\"colorbar\": {\"outlinewidth\": 0, \"ticks\": \"\"}, \"colorscale\": [[0.0, \"#0d0887\"], [0.1111111111111111, \"#46039f\"], [0.2222222222222222, \"#7201a8\"], [0.3333333333333333, \"#9c179e\"], [0.4444444444444444, \"#bd3786\"], [0.5555555555555556, \"#d8576b\"], [0.6666666666666666, \"#ed7953\"], [0.7777777777777778, \"#fb9f3a\"], [0.8888888888888888, \"#fdca26\"], [1.0, \"#f0f921\"]], \"type\": \"contour\"}], \"contourcarpet\": [{\"colorbar\": {\"outlinewidth\": 0, \"ticks\": \"\"}, \"type\": \"contourcarpet\"}], \"heatmap\": [{\"colorbar\": {\"outlinewidth\": 0, \"ticks\": \"\"}, \"colorscale\": [[0.0, \"#0d0887\"], [0.1111111111111111, \"#46039f\"], [0.2222222222222222, \"#7201a8\"], [0.3333333333333333, \"#9c179e\"], [0.4444444444444444, \"#bd3786\"], [0.5555555555555556, \"#d8576b\"], [0.6666666666666666, \"#ed7953\"], [0.7777777777777778, \"#fb9f3a\"], [0.8888888888888888, \"#fdca26\"], [1.0, \"#f0f921\"]], \"type\": \"heatmap\"}], \"heatmapgl\": [{\"colorbar\": {\"outlinewidth\": 0, \"ticks\": \"\"}, \"colorscale\": [[0.0, \"#0d0887\"], [0.1111111111111111, \"#46039f\"], [0.2222222222222222, \"#7201a8\"], [0.3333333333333333, \"#9c179e\"], [0.4444444444444444, \"#bd3786\"], [0.5555555555555556, \"#d8576b\"], [0.6666666666666666, \"#ed7953\"], [0.7777777777777778, \"#fb9f3a\"], [0.8888888888888888, \"#fdca26\"], [1.0, \"#f0f921\"]], \"type\": \"heatmapgl\"}], \"histogram\": [{\"marker\": {\"colorbar\": {\"outlinewidth\": 0, \"ticks\": \"\"}}, \"type\": \"histogram\"}], \"histogram2d\": [{\"colorbar\": {\"outlinewidth\": 0, \"ticks\": \"\"}, \"colorscale\": [[0.0, \"#0d0887\"], [0.1111111111111111, \"#46039f\"], [0.2222222222222222, \"#7201a8\"], [0.3333333333333333, \"#9c179e\"], [0.4444444444444444, \"#bd3786\"], [0.5555555555555556, \"#d8576b\"], [0.6666666666666666, \"#ed7953\"], [0.7777777777777778, \"#fb9f3a\"], [0.8888888888888888, \"#fdca26\"], [1.0, \"#f0f921\"]], \"type\": \"histogram2d\"}], \"histogram2dcontour\": [{\"colorbar\": {\"outlinewidth\": 0, \"ticks\": \"\"}, \"colorscale\": [[0.0, \"#0d0887\"], [0.1111111111111111, \"#46039f\"], [0.2222222222222222, \"#7201a8\"], [0.3333333333333333, \"#9c179e\"], [0.4444444444444444, \"#bd3786\"], [0.5555555555555556, \"#d8576b\"], [0.6666666666666666, \"#ed7953\"], [0.7777777777777778, \"#fb9f3a\"], [0.8888888888888888, \"#fdca26\"], [1.0, \"#f0f921\"]], \"type\": \"histogram2dcontour\"}], \"mesh3d\": [{\"colorbar\": {\"outlinewidth\": 0, \"ticks\": \"\"}, \"type\": \"mesh3d\"}], \"parcoords\": [{\"line\": {\"colorbar\": {\"outlinewidth\": 0, \"ticks\": \"\"}}, \"type\": \"parcoords\"}], \"pie\": [{\"automargin\": true, \"type\": \"pie\"}], \"scatter\": [{\"marker\": {\"colorbar\": {\"outlinewidth\": 0, \"ticks\": \"\"}}, \"type\": \"scatter\"}], \"scatter3d\": [{\"line\": {\"colorbar\": {\"outlinewidth\": 0, \"ticks\": \"\"}}, \"marker\": {\"colorbar\": {\"outlinewidth\": 0, \"ticks\": \"\"}}, \"type\": \"scatter3d\"}], \"scattercarpet\": [{\"marker\": {\"colorbar\": {\"outlinewidth\": 0, \"ticks\": \"\"}}, \"type\": \"scattercarpet\"}], \"scattergeo\": [{\"marker\": {\"colorbar\": {\"outlinewidth\": 0, \"ticks\": \"\"}}, \"type\": \"scattergeo\"}], \"scattergl\": [{\"marker\": {\"colorbar\": {\"outlinewidth\": 0, \"ticks\": \"\"}}, \"type\": \"scattergl\"}], \"scattermapbox\": [{\"marker\": {\"colorbar\": {\"outlinewidth\": 0, \"ticks\": \"\"}}, \"type\": \"scattermapbox\"}], \"scatterpolar\": [{\"marker\": {\"colorbar\": {\"outlinewidth\": 0, \"ticks\": \"\"}}, \"type\": \"scatterpolar\"}], \"scatterpolargl\": [{\"marker\": {\"colorbar\": {\"outlinewidth\": 0, \"ticks\": \"\"}}, \"type\": \"scatterpolargl\"}], \"scatterternary\": [{\"marker\": {\"colorbar\": {\"outlinewidth\": 0, \"ticks\": \"\"}}, \"type\": \"scatterternary\"}], \"surface\": [{\"colorbar\": {\"outlinewidth\": 0, \"ticks\": \"\"}, \"colorscale\": [[0.0, \"#0d0887\"], [0.1111111111111111, \"#46039f\"], [0.2222222222222222, \"#7201a8\"], [0.3333333333333333, \"#9c179e\"], [0.4444444444444444, \"#bd3786\"], [0.5555555555555556, \"#d8576b\"], [0.6666666666666666, \"#ed7953\"], [0.7777777777777778, \"#fb9f3a\"], [0.8888888888888888, \"#fdca26\"], [1.0, \"#f0f921\"]], \"type\": \"surface\"}], \"table\": [{\"cells\": {\"fill\": {\"color\": \"#EBF0F8\"}, \"line\": {\"color\": \"white\"}}, \"header\": {\"fill\": {\"color\": \"#C8D4E3\"}, \"line\": {\"color\": \"white\"}}, \"type\": \"table\"}]}, \"layout\": {\"annotationdefaults\": {\"arrowcolor\": \"#2a3f5f\", \"arrowhead\": 0, \"arrowwidth\": 1}, \"coloraxis\": {\"colorbar\": {\"outlinewidth\": 0, \"ticks\": \"\"}}, \"colorscale\": {\"diverging\": [[0, \"#8e0152\"], [0.1, \"#c51b7d\"], [0.2, \"#de77ae\"], [0.3, \"#f1b6da\"], [0.4, \"#fde0ef\"], [0.5, \"#f7f7f7\"], [0.6, \"#e6f5d0\"], [0.7, \"#b8e186\"], [0.8, \"#7fbc41\"], [0.9, \"#4d9221\"], [1, \"#276419\"]], \"sequential\": [[0.0, \"#0d0887\"], [0.1111111111111111, \"#46039f\"], [0.2222222222222222, \"#7201a8\"], [0.3333333333333333, \"#9c179e\"], [0.4444444444444444, \"#bd3786\"], [0.5555555555555556, \"#d8576b\"], [0.6666666666666666, \"#ed7953\"], [0.7777777777777778, \"#fb9f3a\"], [0.8888888888888888, \"#fdca26\"], [1.0, \"#f0f921\"]], \"sequentialminus\": [[0.0, \"#0d0887\"], [0.1111111111111111, \"#46039f\"], [0.2222222222222222, \"#7201a8\"], [0.3333333333333333, \"#9c179e\"], [0.4444444444444444, \"#bd3786\"], [0.5555555555555556, \"#d8576b\"], [0.6666666666666666, \"#ed7953\"], [0.7777777777777778, \"#fb9f3a\"], [0.8888888888888888, \"#fdca26\"], [1.0, \"#f0f921\"]]}, \"colorway\": [\"#636efa\", \"#EF553B\", \"#00cc96\", \"#ab63fa\", \"#FFA15A\", \"#19d3f3\", \"#FF6692\", \"#B6E880\", \"#FF97FF\", \"#FECB52\"], \"font\": {\"color\": \"#2a3f5f\"}, \"geo\": {\"bgcolor\": \"white\", \"lakecolor\": \"white\", \"landcolor\": \"#E5ECF6\", \"showlakes\": true, \"showland\": true, \"subunitcolor\": \"white\"}, \"hoverlabel\": {\"align\": \"left\"}, \"hovermode\": \"closest\", \"mapbox\": {\"style\": \"light\"}, \"paper_bgcolor\": \"white\", \"plot_bgcolor\": \"#E5ECF6\", \"polar\": {\"angularaxis\": {\"gridcolor\": \"white\", \"linecolor\": \"white\", \"ticks\": \"\"}, \"bgcolor\": \"#E5ECF6\", \"radialaxis\": {\"gridcolor\": \"white\", \"linecolor\": \"white\", \"ticks\": \"\"}}, \"scene\": {\"xaxis\": {\"backgroundcolor\": \"#E5ECF6\", \"gridcolor\": \"white\", \"gridwidth\": 2, \"linecolor\": \"white\", \"showbackground\": true, \"ticks\": \"\", \"zerolinecolor\": \"white\"}, \"yaxis\": {\"backgroundcolor\": \"#E5ECF6\", \"gridcolor\": \"white\", \"gridwidth\": 2, \"linecolor\": \"white\", \"showbackground\": true, \"ticks\": \"\", \"zerolinecolor\": \"white\"}, \"zaxis\": {\"backgroundcolor\": \"#E5ECF6\", \"gridcolor\": \"white\", \"gridwidth\": 2, \"linecolor\": \"white\", \"showbackground\": true, \"ticks\": \"\", \"zerolinecolor\": \"white\"}}, \"shapedefaults\": {\"line\": {\"color\": \"#2a3f5f\"}}, \"ternary\": {\"aaxis\": {\"gridcolor\": \"white\", \"linecolor\": \"white\", \"ticks\": \"\"}, \"baxis\": {\"gridcolor\": \"white\", \"linecolor\": \"white\", \"ticks\": \"\"}, \"bgcolor\": \"#E5ECF6\", \"caxis\": {\"gridcolor\": \"white\", \"linecolor\": \"white\", \"ticks\": \"\"}}, \"title\": {\"x\": 0.05}, \"xaxis\": {\"automargin\": true, \"gridcolor\": \"white\", \"linecolor\": \"white\", \"ticks\": \"\", \"title\": {\"standoff\": 15}, \"zerolinecolor\": \"white\", \"zerolinewidth\": 2}, \"yaxis\": {\"automargin\": true, \"gridcolor\": \"white\", \"linecolor\": \"white\", \"ticks\": \"\", \"title\": {\"standoff\": 15}, \"zerolinecolor\": \"white\", \"zerolinewidth\": 2}}}, \"title\": {\"text\": \"Average Daily Water Usage by Unit\"}, \"xaxis\": {\"anchor\": \"y\", \"domain\": [0.0, 1.0], \"title\": {\"text\": \"unit\"}}, \"yaxis\": {\"anchor\": \"x\", \"domain\": [0.0, 1.0], \"title\": {\"text\": \"liters_used\"}}},                        {\"responsive\": true}                    ).then(function(){\n",
       "                            \n",
       "var gd = document.getElementById('b1f0274f-f1e2-45f4-9707-f6c45d02c829');\n",
       "var x = new MutationObserver(function (mutations, observer) {{\n",
       "        var display = window.getComputedStyle(gd).display;\n",
       "        if (!display || display === 'none') {{\n",
       "            console.log([gd, 'removed!']);\n",
       "            Plotly.purge(gd);\n",
       "            observer.disconnect();\n",
       "        }}\n",
       "}});\n",
       "\n",
       "// Listen for the removal of the full notebook cells\n",
       "var notebookContainer = gd.closest('#notebook-container');\n",
       "if (notebookContainer) {{\n",
       "    x.observe(notebookContainer, {childList: true});\n",
       "}}\n",
       "\n",
       "// Listen for the clearing of the current output cell\n",
       "var outputEl = gd.closest('.output');\n",
       "if (outputEl) {{\n",
       "    x.observe(outputEl, {childList: true});\n",
       "}}\n",
       "\n",
       "                        })                };                });            </script>        </div>"
      ]
     },
     "metadata": {},
     "output_type": "display_data"
    }
   ],
   "source": [
    "# daily average usage\n",
    "dau = df[[c for c in df.columns if c.endswith(\"_avg_daily_difference\")]].dropna().melt()\n",
    "dau.columns = [\"unit\", \"avg_usage\"]\n",
    "dau[\"unit\"] = dau[\"unit\"].apply(lambda x: x.replace(\"_avg_daily_difference\", \"\"))\n",
    "\n",
    "dau_normalized = dau.merge(n_resident_lkup, on=\"unit\")\n",
    "dau_normalized[\"avg_usage_normalized\"] = dau_normalized[\"avg_usage\"] / dau_normalized[\"n_residents\"]\n",
    "dau_normalized = dau_normalized.melt(\n",
    "    id_vars=\"unit\", \n",
    "    value_vars=[\"avg_usage\", \"avg_usage_normalized\"], \n",
    "    var_name=\"metric_name\",\n",
    "    value_name=\"liters_used\"\n",
    ")\n",
    "px.box(\n",
    "    data_frame=dau_normalized, \n",
    "    x=\"unit\", \n",
    "    y=\"liters_used\", \n",
    "    color=\"metric_name\", \n",
    "    title=\"Average Daily Water Usage by Unit\"\n",
    ")"
   ]
  },
  {
   "cell_type": "markdown",
   "metadata": {},
   "source": [
    "## Statistical Tests"
   ]
  },
  {
   "cell_type": "code",
   "execution_count": 4,
   "metadata": {},
   "outputs": [
    {
     "data": {
      "text/html": [
       "<div>\n",
       "<style scoped>\n",
       "    .dataframe tbody tr th:only-of-type {\n",
       "        vertical-align: middle;\n",
       "    }\n",
       "\n",
       "    .dataframe tbody tr th {\n",
       "        vertical-align: top;\n",
       "    }\n",
       "\n",
       "    .dataframe thead th {\n",
       "        text-align: right;\n",
       "    }\n",
       "</style>\n",
       "<table border=\"1\" class=\"dataframe\">\n",
       "  <thead>\n",
       "    <tr style=\"text-align: right;\">\n",
       "      <th></th>\n",
       "      <th>T</th>\n",
       "      <th>dof</th>\n",
       "      <th>tail</th>\n",
       "      <th>p-val</th>\n",
       "      <th>CI95%</th>\n",
       "      <th>cohen-d</th>\n",
       "      <th>BF10</th>\n",
       "      <th>power</th>\n",
       "    </tr>\n",
       "  </thead>\n",
       "  <tbody>\n",
       "    <tr>\n",
       "      <th>T-test</th>\n",
       "      <td>4.560012</td>\n",
       "      <td>22</td>\n",
       "      <td>two-sided</td>\n",
       "      <td>0.000154</td>\n",
       "      <td>[99.82, 266.36]</td>\n",
       "      <td>1.861617</td>\n",
       "      <td>141.665</td>\n",
       "      <td>0.991651</td>\n",
       "    </tr>\n",
       "  </tbody>\n",
       "</table>\n",
       "</div>"
      ],
      "text/plain": [
       "               T  dof       tail     p-val            CI95%   cohen-d  \\\n",
       "T-test  4.560012   22  two-sided  0.000154  [99.82, 266.36]  1.861617   \n",
       "\n",
       "           BF10     power  \n",
       "T-test  141.665  0.991651  "
      ]
     },
     "execution_count": 4,
     "metadata": {},
     "output_type": "execute_result"
    }
   ],
   "source": [
    "pg.ttest(\n",
    "    x=dau_normalized.query(\"(unit == 'unit_8') & (metric_name == 'avg_usage_normalized')\")[\"liters_used\"].astype(float),\n",
    "    y=dau_normalized.query(\"(unit == 'unit_2') & (metric_name == 'avg_usage_normalized')\")[\"liters_used\"].astype(float)\n",
    ")"
   ]
  },
  {
   "cell_type": "code",
   "execution_count": 5,
   "metadata": {},
   "outputs": [
    {
     "data": {
      "text/html": [
       "<div>\n",
       "<style scoped>\n",
       "    .dataframe tbody tr th:only-of-type {\n",
       "        vertical-align: middle;\n",
       "    }\n",
       "\n",
       "    .dataframe tbody tr th {\n",
       "        vertical-align: top;\n",
       "    }\n",
       "\n",
       "    .dataframe thead th {\n",
       "        text-align: right;\n",
       "    }\n",
       "</style>\n",
       "<table border=\"1\" class=\"dataframe\">\n",
       "  <thead>\n",
       "    <tr style=\"text-align: right;\">\n",
       "      <th></th>\n",
       "      <th>T</th>\n",
       "      <th>dof</th>\n",
       "      <th>tail</th>\n",
       "      <th>p-val</th>\n",
       "      <th>CI95%</th>\n",
       "      <th>cohen-d</th>\n",
       "      <th>BF10</th>\n",
       "      <th>power</th>\n",
       "    </tr>\n",
       "  </thead>\n",
       "  <tbody>\n",
       "    <tr>\n",
       "      <th>T-test</th>\n",
       "      <td>-0.725703</td>\n",
       "      <td>22</td>\n",
       "      <td>two-sided</td>\n",
       "      <td>0.47567</td>\n",
       "      <td>[-199.09, 95.87]</td>\n",
       "      <td>0.296267</td>\n",
       "      <td>0.452</td>\n",
       "      <td>0.106819</td>\n",
       "    </tr>\n",
       "  </tbody>\n",
       "</table>\n",
       "</div>"
      ],
      "text/plain": [
       "               T  dof       tail    p-val             CI95%   cohen-d   BF10  \\\n",
       "T-test -0.725703   22  two-sided  0.47567  [-199.09, 95.87]  0.296267  0.452   \n",
       "\n",
       "           power  \n",
       "T-test  0.106819  "
      ]
     },
     "execution_count": 5,
     "metadata": {},
     "output_type": "execute_result"
    }
   ],
   "source": [
    "pg.ttest(\n",
    "    x=dau_normalized.query(\"(unit == 'unit_8') & (metric_name == 'avg_usage_normalized')\")[\"liters_used\"].astype(float),\n",
    "    y=dau_normalized.query(\"(unit == 'unit_7') & (metric_name == 'avg_usage_normalized')\")[\"liters_used\"].astype(float)\n",
    ")"
   ]
  }
 ],
 "metadata": {
  "kernelspec": {
   "display_name": "data_science (venv)",
   "language": "python",
   "name": "data_science"
  },
  "language_info": {
   "codemirror_mode": {
    "name": "ipython",
    "version": 3
   },
   "file_extension": ".py",
   "mimetype": "text/x-python",
   "name": "python",
   "nbconvert_exporter": "python",
   "pygments_lexer": "ipython3",
   "version": "3.6.4"
  }
 },
 "nbformat": 4,
 "nbformat_minor": 4
}
